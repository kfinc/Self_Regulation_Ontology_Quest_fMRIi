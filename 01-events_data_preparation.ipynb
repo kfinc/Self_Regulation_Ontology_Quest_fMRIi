{
 "cells": [
  {
   "cell_type": "code",
   "execution_count": 31,
   "metadata": {},
   "outputs": [],
   "source": [
    "import os\n",
    "import glob as glob\n",
    "import pandas as pd\n",
    "import numpy as np\n",
    "from events_prep import *"
   ]
  },
  {
   "cell_type": "code",
   "execution_count": 73,
   "metadata": {},
   "outputs": [
    {
     "name": "stdout",
     "output_type": "stream",
     "text": [
      "Survey data not exist for sub-s144\n",
      "Survey data not exist for sub-s533\n",
      "Survey data not exist for sub-s600\n",
      "Survey data not exist for sub-s603\n",
      "Survey data not exist for sub-s620\n",
      "Survey data not exist for sub-s639\n",
      "Survey data not exist for sub-s640\n"
     ]
    }
   ],
   "source": [
    "data_dir = '/home/finc/Dropbox/Projects/SelfReg/data/behavioral/raw/'\n",
    "out_dir = '/home/finc/Dropbox/Projects/SelfReg/data/behavioral/prep/'\n",
    "\n",
    "files = np.sort(os.listdir(data_dir))\n",
    "\n",
    "for sub in files:\n",
    "    file_path = f'{data_dir}{sub}/{sub}_surveyMedley.csv'\n",
    "    if not os.path.exists(file_path):\n",
    "        print(f'Survey data not exist for sub-{sub}')\n",
    "    else:\n",
    "        file_name = os.path.basename(file_path)\n",
    "        df = pd.read_csv(file_path)\n",
    "        \n",
    "        start_time = df.query('trial_id == \"fmri_trigger_wait\"').iloc[-1]['time_elapsed']\n",
    "        df.time_elapsed -= start_time\n",
    "        \n",
    "        # correct start time for problematic scans\n",
    "        df.time_elapsed -= get_timing_correction(file_name)\n",
    "        df_clean = create_survey_event(df)\n",
    "        df_clean = df_clean.dropna(axis=0).reset_index(drop=True)\n",
    "        df_clean['trial_type'] = df_clean['item_text'].map(get_items_order())\n",
    "        df_clean['trial_no'] = np.arange(1,41)\n",
    "        \n",
    "        events = pd.DataFrame(df_clean, columns=['onset', 'trial_type'])\n",
    "        events['duration'] = 3.982\n",
    "        \n",
    "        new_dir = f'{out_dir}sub-{sub}'\n",
    "        if not os.path.exists(new_dir):\n",
    "            os.makedirs(new_dir)\n",
    "            \n",
    "        events.to_csv(f'{new_dir}/sub-{sub}_surveyMedley_events.csv', index = False)\n",
    "        df_clean.to_csv(f'{new_dir}/sub-{sub}_surveyMedley_clean.csv', index = False)"
   ]
  },
  {
   "cell_type": "code",
   "execution_count": 53,
   "metadata": {},
   "outputs": [
    {
     "data": {
      "text/plain": [
       "'/home/finc/Dropbox/Projects/SelfReg/data/behavioral/events/s061'"
      ]
     },
     "execution_count": 53,
     "metadata": {},
     "output_type": "execute_result"
    }
   ],
   "source": [
    "f'{out_dir}{sub}'"
   ]
  },
  {
   "cell_type": "markdown",
   "metadata": {},
   "source": [
    "tests\n",
    "------"
   ]
  },
  {
   "cell_type": "code",
   "execution_count": 59,
   "metadata": {},
   "outputs": [
    {
     "data": {
      "text/plain": [
       "(40, 14)"
      ]
     },
     "execution_count": 59,
     "metadata": {},
     "output_type": "execute_result"
    }
   ],
   "source": [
    "sub = 's358'\n",
    "file_path = glob.glob(f'{data_dir}{sub}/*surveyMedley.csv')[0]\n",
    "file_name = os.path.basename(file_path)\n",
    "\n",
    "df = pd.read_csv(file_path)\n",
    "df.columns\n",
    "\n",
    "start_time = df.query('trial_id == \"fmri_trigger_wait\"').iloc[-1]['time_elapsed']\n",
    "df.time_elapsed-=start_time\n",
    "# correct start time for problematic scans\n",
    "df.time_elapsed-=get_timing_correction(file_name)\n",
    "df_clean = create_survey_event(df)\n",
    "df_clean = df_clean.dropna(axis=0).reset_index(drop=True)\n",
    "df_clean['trial_type'] = df_clean['item_text'].map(get_items_order())\n",
    "df_clean['trial_no'] = np.arange(1,41)\n",
    "\n",
    "df_clean.shape\n"
   ]
  },
  {
   "cell_type": "code",
   "execution_count": 71,
   "metadata": {},
   "outputs": [
    {
     "data": {
      "text/plain": [
       "3.5675"
      ]
     },
     "execution_count": 71,
     "metadata": {},
     "output_type": "execute_result"
    }
   ],
   "source": [
    "events = pd.DataFrame(df_clean, columns=['onset', 'duration', 'trial_type'])\n",
    "#events.to_csv(f'sub-{sub}_surveyMedley_events.csv', index = False)\n",
    "np.median(df_clean['rt'].iloc[df_clean['rt'].values>0].values)/1000"
   ]
  }
 ],
 "metadata": {
  "kernelspec": {
   "display_name": "Python 3",
   "language": "python",
   "name": "python3"
  },
  "language_info": {
   "codemirror_mode": {
    "name": "ipython",
    "version": 3
   },
   "file_extension": ".py",
   "mimetype": "text/x-python",
   "name": "python",
   "nbconvert_exporter": "python",
   "pygments_lexer": "ipython3",
   "version": "3.6.7"
  }
 },
 "nbformat": 4,
 "nbformat_minor": 2
}
